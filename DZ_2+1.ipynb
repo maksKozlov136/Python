{
 "cells": [
  {
   "cell_type": "code",
   "execution_count": 1,
   "id": "209e94d6",
   "metadata": {},
   "outputs": [
    {
     "name": "stdout",
     "output_type": "stream",
     "text": [
      "123456 - Несчастливый билет\n",
      "123321 - Счастливый билет\n"
     ]
    }
   ],
   "source": [
    "def is_lucky_ticket(ticket_number):\n",
    "    str_ticket = str(ticket_number)\n",
    "    \n",
    "    # Проверка наличия 6 цифр в номере билета\n",
    "    if len(str_ticket) != 6:\n",
    "        return False\n",
    "\n",
    "    # Разделение номера билета на две половины\n",
    "    first_half = map(int, str_ticket[:3])\n",
    "    second_half = map(int, str_ticket[3:])\n",
    "    \n",
    "    # Проверка суммы первой и второй половин номера\n",
    "    return sum(first_half) == sum(second_half)\n",
    "\n",
    "number1 = 123456\n",
    "if is_lucky_ticket(number1):\n",
    "    print(f\"{number1} - Счастливый билет\")\n",
    "else:\n",
    "    print(f\"{number1} - Несчастливый билет\")\n",
    "\n",
    "number2 = 123321\n",
    "if is_lucky_ticket(number2):\n",
    "    print(f\"{number2} - Счастливый билет\")\n",
    "else:\n",
    "    print(f\"{number2} - Несчастливый билет\")\n"
   ]
  },
  {
   "cell_type": "code",
   "execution_count": null,
   "id": "1b5cc5a6",
   "metadata": {},
   "outputs": [],
   "source": []
  }
 ],
 "metadata": {
  "kernelspec": {
   "display_name": "Python 3 (ipykernel)",
   "language": "python",
   "name": "python3"
  },
  "language_info": {
   "codemirror_mode": {
    "name": "ipython",
    "version": 3
   },
   "file_extension": ".py",
   "mimetype": "text/x-python",
   "name": "python",
   "nbconvert_exporter": "python",
   "pygments_lexer": "ipython3",
   "version": "3.11.5"
  }
 },
 "nbformat": 4,
 "nbformat_minor": 5
}
