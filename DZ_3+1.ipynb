{
 "cells": [
  {
   "cell_type": "code",
   "execution_count": 7,
   "id": "66c8ac71",
   "metadata": {},
   "outputs": [
    {
     "name": "stdout",
     "output_type": "stream",
     "text": [
      "Идеальные пары:\n",
      "Alex и Emma\n",
      "Arthur и Kate\n",
      "John и Kira\n",
      "Peter и Liza\n",
      "Richard и Trisha\n",
      "Внимание, кто-то может остаться без пары!\n"
     ]
    }
   ],
   "source": [
    "def find_perfect_matches(boys, girls):\n",
    "    # Проверка наличия одинакового числа парней и девушек\n",
    "    if len(boys) != len(girls):\n",
    "        print(\"Внимание, кто-то может остаться без пары!\")\n",
    "        return\n",
    "    \n",
    "    # Сортировка имен парней и девушек по алфавиту\n",
    "    sorted_boys = sorted(boys)\n",
    "    sorted_girls = sorted(girls)\n",
    "    \n",
    "    # Формирование идеальных пар\n",
    "    perfect_matches = zip(sorted_boys, sorted_girls)\n",
    "    \n",
    "    # Вывод результатов\n",
    "    print(\"Идеальные пары:\")\n",
    "    for boy, girl in perfect_matches:\n",
    "        print(f\"{boy} и {girl}\")\n",
    "\n",
    "boys1 = ['Peter', 'Alex', 'John', 'Arthur', 'Richard']\n",
    "girls1 = ['Kate', 'Liza', 'Kira', 'Emma', 'Trisha']\n",
    "find_perfect_matches(boys1, girls1)\n",
    "\n",
    "boys2 = ['Peter', 'Alex', 'John', 'Arthur', 'Richard', 'Michael']\n",
    "girls2 = ['Kate', 'Liza', 'Kira', 'Emma', 'Trisha']\n",
    "find_perfect_matches(boys2, girls2)\n"
   ]
  },
  {
   "cell_type": "code",
   "execution_count": null,
   "id": "5f6b3dd6",
   "metadata": {},
   "outputs": [],
   "source": []
  }
 ],
 "metadata": {
  "kernelspec": {
   "display_name": "Python 3 (ipykernel)",
   "language": "python",
   "name": "python3"
  },
  "language_info": {
   "codemirror_mode": {
    "name": "ipython",
    "version": 3
   },
   "file_extension": ".py",
   "mimetype": "text/x-python",
   "name": "python",
   "nbconvert_exporter": "python",
   "pygments_lexer": "ipython3",
   "version": "3.11.5"
  }
 },
 "nbformat": 4,
 "nbformat_minor": 5
}
