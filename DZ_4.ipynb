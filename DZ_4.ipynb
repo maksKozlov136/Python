{
 "cells": [
  {
   "cell_type": "code",
   "execution_count": 5,
   "id": "08ad1744",
   "metadata": {},
   "outputs": [
    {
     "name": "stdout",
     "output_type": "stream",
     "text": [
      "Введите номер документа: 11-2\n",
      "Владелец документа: Геннадий Покемонов\n"
     ]
    }
   ],
   "source": [
    "def find_owner_by_document_number(documents, document_number):\n",
    "    for document in documents:\n",
    "        if document['number'] == document_number:\n",
    "            return document['name']\n",
    "    return None\n",
    "\n",
    "def command_p(documents):\n",
    "    document_number = input(\"Введите номер документа: \")\n",
    "    owner = find_owner_by_document_number(documents, document_number)\n",
    "    if owner:\n",
    "        print(f\"Владелец документа: {owner}\")\n",
    "    else:\n",
    "        print(\"Документ не найден в базе\")\n",
    "\n",
    "documents = [\n",
    "    {'type': 'passport', 'number': '2207 876234', 'name': 'Василий Гупкин'},\n",
    "    {'type': 'invoice', 'number': '11-2', 'name': 'Геннадий Покемонов'},\n",
    "    {'type': 'insurance', 'number': '10006', 'name': 'Аристарх Павлов'}\n",
    "]\n",
    "\n",
    "command_p(documents)\n"
   ]
  },
  {
   "cell_type": "code",
   "execution_count": null,
   "id": "1edec7fd",
   "metadata": {},
   "outputs": [],
   "source": []
  },
  {
   "cell_type": "code",
   "execution_count": null,
   "id": "79c91eb8",
   "metadata": {},
   "outputs": [],
   "source": []
  }
 ],
 "metadata": {
  "kernelspec": {
   "display_name": "Python 3 (ipykernel)",
   "language": "python",
   "name": "python3"
  },
  "language_info": {
   "codemirror_mode": {
    "name": "ipython",
    "version": 3
   },
   "file_extension": ".py",
   "mimetype": "text/x-python",
   "name": "python",
   "nbconvert_exporter": "python",
   "pygments_lexer": "ipython3",
   "version": "3.11.5"
  }
 },
 "nbformat": 4,
 "nbformat_minor": 5
}
