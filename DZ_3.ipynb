{
 "cells": [
  {
   "cell_type": "code",
   "execution_count": 3,
   "id": "33107f2a",
   "metadata": {},
   "outputs": [
    {
     "name": "stdout",
     "output_type": "stream",
     "text": [
      "Для слова 'test' результат: es\n",
      "Для слова 'testing' результат: t\n"
     ]
    }
   ],
   "source": [
    "def middle_letters(word):\n",
    "    length = len(word)\n",
    "    \n",
    "    if length % 2 == 0:\n",
    "        middle1 = length // 2 - 1\n",
    "        middle2 = length // 2\n",
    "        result = word[middle1] + word[middle2]\n",
    "    else:\n",
    "        middle = length // 2\n",
    "        result = word[middle]\n",
    "    \n",
    "    return result\n",
    "\n",
    "word1 = 'test'\n",
    "result1 = middle_letters(word1)\n",
    "print(f\"Для слова '{word1}' результат: {result1}\")\n",
    "\n",
    "word2 = 'testing'\n",
    "result2 = middle_letters(word2)\n",
    "print(f\"Для слова '{word2}' результат: {result2}\")\n"
   ]
  },
  {
   "cell_type": "code",
   "execution_count": null,
   "id": "71ec927c",
   "metadata": {},
   "outputs": [],
   "source": []
  }
 ],
 "metadata": {
  "kernelspec": {
   "display_name": "Python 3 (ipykernel)",
   "language": "python",
   "name": "python3"
  },
  "language_info": {
   "codemirror_mode": {
    "name": "ipython",
    "version": 3
   },
   "file_extension": ".py",
   "mimetype": "text/x-python",
   "name": "python",
   "nbconvert_exporter": "python",
   "pygments_lexer": "ipython3",
   "version": "3.11.5"
  }
 },
 "nbformat": 4,
 "nbformat_minor": 5
}
