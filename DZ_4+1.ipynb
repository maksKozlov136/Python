{
 "cells": [
  {
   "cell_type": "code",
   "execution_count": 4,
   "id": "25428105",
   "metadata": {},
   "outputs": [
    {
     "name": "stdout",
     "output_type": "stream",
     "text": [
      "Введите номер документа: 11-2\n",
      "Документ хранится на полке: 1\n"
     ]
    }
   ],
   "source": [
    "def find_shelf_by_document_number(directories, document_number):\n",
    "    for shelf, documents_list in directories.items():\n",
    "        if document_number in documents_list:\n",
    "            return shelf\n",
    "    return None\n",
    "\n",
    "def command_s(directories):\n",
    "    document_number = input(\"Введите номер документа: \")\n",
    "    shelf = find_shelf_by_document_number(directories, document_number)\n",
    "    if shelf:\n",
    "        print(f\"Документ хранится на полке: {shelf}\")\n",
    "    else:\n",
    "        print(\"Документ не найден в базе\")\n",
    "\n",
    "directories = {'1': ['2207 876234', '11-2'], '2': ['10006'], '3': []}\n",
    "\n",
    "command_s(directories)\n"
   ]
  },
  {
   "cell_type": "code",
   "execution_count": null,
   "id": "59cf4181",
   "metadata": {},
   "outputs": [],
   "source": []
  },
  {
   "cell_type": "code",
   "execution_count": null,
   "id": "72815ee4",
   "metadata": {},
   "outputs": [],
   "source": []
  }
 ],
 "metadata": {
  "kernelspec": {
   "display_name": "Python 3 (ipykernel)",
   "language": "python",
   "name": "python3"
  },
  "language_info": {
   "codemirror_mode": {
    "name": "ipython",
    "version": 3
   },
   "file_extension": ".py",
   "mimetype": "text/x-python",
   "name": "python",
   "nbconvert_exporter": "python",
   "pygments_lexer": "ipython3",
   "version": "3.11.5"
  }
 },
 "nbformat": 4,
 "nbformat_minor": 5
}
